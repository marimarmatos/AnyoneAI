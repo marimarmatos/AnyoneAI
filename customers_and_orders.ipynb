{
  "cells": [
    {
      "cell_type": "markdown",
      "metadata": {
        "id": "piiX_CRNFYUi"
      },
      "source": [
        "# Technical Challenge ! Custiomers and Orders - The lifeblood of any business!\n",
        "\n",
        "This notebook depends on two data files: customers.scv and orders.csv. These files are hosted in the cloud (or Github), so for simplicity, we are providing you with the code to download and save the two files in a folder called 'sample_data' which lives within this notebook session (not on your local computer nor Google Drive).\n",
        "\n",
        "![sample_data folder in notebook session](https://raw.githubusercontent.com/anyoneai/notebooks/main/customers_and_orders/images/sample_data_folder.png)\n",
        "\n",
        "Please execute the first code snippet before moving to the rest of the exercise as this code will import the data from the files for you to be able to execute the rest of the exercise.\n",
        "\n",
        "Remember as we said in the previous lecture, you have to save this notebook into your Google Drive by going to menu File/Save a Copy In Drive, or clicking in the button \"Copy to Drive\". This way, you will not lose any work you've done and the file will persist with your latest changes in your Google Drive. Also we recommend you to rename your .ipynb in your Google Drive, so you can easily find it in the future."
      ]
    },
    {
      "cell_type": "code",
      "execution_count": 1,
      "metadata": {
        "colab": {
          "base_uri": "https://localhost:8080/"
        },
        "id": "MWpVO242FQHC",
        "outputId": "3bba9960-b0f3-4899-f972-a54aa07447af"
      },
      "outputs": [
        {
          "output_type": "stream",
          "name": "stdout",
          "text": [
            "Customers and orders CSV files have been added './sample_data'\n"
          ]
        }
      ],
      "source": [
        "import requests\n",
        "\n",
        "def import_data_files():\n",
        "  r = requests.get('https://raw.githubusercontent.com/anyoneai/notebooks/main/customers_and_orders/data/customers.csv')\n",
        "  with open('./sample_data/customers.csv', 'wb') as f:\n",
        "    f.write(r.content)\n",
        "\n",
        "  r = requests.get('https://raw.githubusercontent.com/anyoneai/notebooks/main/customers_and_orders/data/orders.csv')\n",
        "  with open('./sample_data/orders.csv', 'wb') as f:\n",
        "    f.write(r.content)\n",
        "\n",
        "import_data_files()\n",
        "print(\"Customers and orders CSV files have been added './sample_data'\")"
      ]
    },
    {
      "cell_type": "markdown",
      "metadata": {
        "id": "JQAduY-RWKyB"
      },
      "source": [
        "# Exercise 1: Processing Customers data (difficulty medium)\n",
        "\n",
        "The sample customer data in 'customers.csv' file has just 5 columns: CustomerId, First Name, Last Name, City and State\n",
        "\n",
        "![Data sample](https://raw.githubusercontent.com/anyoneai/notebooks/main/customers_and_orders/images/customers.png)\n",
        "\n",
        "We strongly recommend that you complete from the [Prep Course: Intro to Python](https://colab.research.google.com/github/anyoneai/notebooks/blob/main/python3_crash_course.ipynb) the following section:\n",
        "- Section 7: File I/O (to understand how to read CSV file)\n",
        "- Section 6: For Loop (to navigate the contents of the CSV file)\n",
        "- Section 5: Tuples, Lists, and Dictionaries (to manipulate the data of the CSV file)\n",
        "\n",
        "With this, we hope you can complete this exercise successfully. Although if you want to solve this with libraries or any other way, you are welcome to do it your way.\n",
        "\n",
        "*Hint:* We advise you to take a look at the data before you start.\n",
        "**if you want to manually take a look at the data before you start, please see the content of the data [here](https://github.com/anyoneai/notebooks/blob/main/customers_and_orders/data/customers.csv).\n",
        "\n",
        "*Hint*: There are many ways to do this exercise you can do your own, although here's some help. You can solve this exercise reading and parsing CSV files, structuring data into dictionaries, and using for loops to navigate the contents\n",
        "\n",
        "*Hint*: Also, keep in mind that data might not be clean and you might have to figure out how to deal with that data from the code, without having to modify the data source.\n",
        "\n",
        "Below are the 5 questions you'll have to answer to pass the evaluation:"
      ]
    },
    {
      "cell_type": "markdown",
      "metadata": {
        "id": "kJq7S8sBfbOW"
      },
      "source": [
        "**Question 1:** How many customers are in the file?\n",
        "(as help, we have added some comments and starter code to help you structure the solution)"
      ]
    },
    {
      "cell_type": "code",
      "execution_count": 80,
      "metadata": {
        "colab": {
          "base_uri": "https://localhost:8080/"
        },
        "id": "oMnUFBFb2RUb",
        "outputId": "dc2c866c-c9dd-42d5-e7bd-63d2f9d5d94d"
      },
      "outputs": [
        {
          "output_type": "stream",
          "name": "stdout",
          "text": [
            "There are 603 costumers in the file\n",
            "All done!\n"
          ]
        }
      ],
      "source": [
        "from os.path import exists\n",
        "import csv\n",
        "#Import pandas for dataframes and manipulate data in a easy way\n",
        "import pandas as pd\n",
        "data_p=\"./sample_data/customers.csv\"\n",
        "# check if file can be found and open the file\n",
        "datafile = \"./sample_data/customers.csv\"\n",
        "if not exists(datafile):\n",
        "  raise SystemExit(\"You should run the first code cell and download the dataset files!\")\n",
        "\n",
        "# customers file is in the sample_data folder and can be opened.\n",
        "# Using csv reader is one way of dealing with the file\n",
        "# but it's up to you how you want to proceed\n",
        "with open(datafile, 'r') as fl:\n",
        "  csvreader = csv.reader(fl, delimiter=',')\n",
        "\n",
        "  # create the variable count and the loop through the rows and count\n",
        "  count= 0\n",
        "  for row in csvreader:\n",
        "    count +=1\n",
        "\n",
        "\n",
        "\n",
        "print(f\"There are {count} costumers in the file\")\n",
        "\n",
        "print(\"All done!\")"
      ]
    },
    {
      "cell_type": "markdown",
      "metadata": {
        "id": "uffBnNgz_570"
      },
      "source": [
        "**Question 2:** In how many different states do the customers live in?"
      ]
    },
    {
      "cell_type": "code",
      "execution_count": 92,
      "metadata": {
        "id": "Bi_yid0sMe3-",
        "outputId": "2d2e71ca-7d4e-42f3-bf25-ad32030b0908",
        "colab": {
          "base_uri": "https://localhost:8080/"
        }
      },
      "outputs": [
        {
          "output_type": "stream",
          "name": "stdout",
          "text": [
            "['CA' 'AZ' 'NV' 'FL' 'WA' 'NH' 'ID' 'CO' 'TX' 'NM' 'OR' 'UT' 'MA' 'IN']\n",
            "The costumers lives in 14 different states\n"
          ]
        }
      ],
      "source": [
        "# open file and init vars\n",
        "# evaluate the contents of the file\n",
        "df = pd.read_csv(data_p)\n",
        "df_states= df['State'].str.strip()\n",
        "df_states2= df_states.str.upper()\n",
        "print(df_states2.unique())\n",
        "states_uniques = df_states2.nunique()\n",
        "\n",
        "print(f\"The costumers lives in {states_uniques} different states\")"
      ]
    },
    {
      "cell_type": "markdown",
      "metadata": {
        "id": "DC59SZYiMfNY"
      },
      "source": [
        "**Question 3** What is the state with most customers?"
      ]
    },
    {
      "cell_type": "code",
      "execution_count": 99,
      "metadata": {
        "id": "tfGU3w-OMhA9",
        "outputId": "5900a38e-75c3-4c96-937b-073b674f0c89",
        "colab": {
          "base_uri": "https://localhost:8080/"
        }
      },
      "outputs": [
        {
          "output_type": "stream",
          "name": "stdout",
          "text": [
            "The state with the most customers is CA with 569 customers.\n"
          ]
        }
      ],
      "source": [
        "# open file and init vars\n",
        "# evaluate the contents of the file\n",
        "# Count the frequency of each state\n",
        "df = pd.read_csv(data_p)\n",
        "state_counts = df['State'].str.upper().str.strip().value_counts()\n",
        "\n",
        "# Get the state with the most customers\n",
        "most_customers_state = state_counts.idxmax()\n",
        "number_of_customers = state_counts.max()\n",
        "\n",
        "\n",
        "print(f\"The state with the most customers is {most_customers_state} with {number_of_customers} customers.\")"
      ]
    },
    {
      "cell_type": "markdown",
      "metadata": {
        "id": "7mcM6cUAMhLB"
      },
      "source": [
        "**Question 4** What is the state with the least customers?"
      ]
    },
    {
      "cell_type": "code",
      "execution_count": 108,
      "metadata": {
        "id": "8T0Ka2RqMi3P",
        "outputId": "b7afd88a-681d-49bd-8736-9db8d3544310",
        "colab": {
          "base_uri": "https://localhost:8080/"
        }
      },
      "outputs": [
        {
          "output_type": "stream",
          "name": "stdout",
          "text": [
            "State\n",
            "NH    1\n",
            "WA    1\n",
            "ID    1\n",
            "OR    1\n",
            "MA    1\n",
            "IN    1\n",
            "Name: count, dtype: int64\n"
          ]
        }
      ],
      "source": [
        "# open file and init vars\n",
        "# evaluate the contents of the file\n",
        "min_states = state_counts == state_counts.min()\n",
        "min_counts = min_states == True\n",
        "min_states2 = state_counts[min_counts]\n",
        "print(min_states2)\n"
      ]
    },
    {
      "cell_type": "markdown",
      "metadata": {
        "id": "h6fIy7hXHF6A"
      },
      "source": [
        "**Question 5:** What is the most common last name?"
      ]
    },
    {
      "cell_type": "code",
      "execution_count": 39,
      "metadata": {
        "id": "k8M1DmA75Km7",
        "outputId": "2a4948b8-8a4d-4319-91e6-04cc44892c16",
        "colab": {
          "base_uri": "https://localhost:8080/"
        }
      },
      "outputs": [
        {
          "output_type": "stream",
          "name": "stdout",
          "text": [
            "The most common last name is Smith\n"
          ]
        }
      ],
      "source": [
        "# open file and init vars\n",
        "# evaluate the contents of the file\n",
        "df = pd.read_csv(data_p)\n",
        "# Count the frequency of each last name\n",
        "last_name_counts = df['LastName'].value_counts()\n",
        "# Get the state with the most customers\n",
        "most_customers_lastname = last_name_counts.idxmax()\n",
        "\n",
        "print(f\"The most common last name is {most_customers_lastname}\")"
      ]
    },
    {
      "cell_type": "markdown",
      "metadata": {
        "id": "YPRma1t9NoFk"
      },
      "source": [
        "# Exercise 2: Processing Orders data (difficulty high)\n",
        "\n",
        "The second sample files contains orders placed by customers from the first file. Be careful, this file has many rows and you most likely should not print the contents of the whole file.\n",
        "\n",
        "The file contains the following columns: CustomerID, OrderID, Date, OrderTotal, ProductName, Price\n",
        "\n",
        "![Data sample](https://raw.githubusercontent.com/anyoneai/notebooks/main/customers_and_orders/images/orders.png)\n",
        "\n",
        "*Hint:* We advise you to take a look at the data before you start.\n",
        "**if you want to manually take a look at the data before you start, please see the content of the data [here](https://raw.githubusercontent.com/anyoneai/notebooks/main/customers_and_orders/data/orders.csv).\n",
        "\n",
        "*Hint*: There are many ways to do this exercise you can do your own, although here's some help. You can solve this exercise reading and parsing CSV files, structuring data into dictionaries, and using for loops to navigate the contents\n",
        "\n",
        "*Hint*: Also, the data is not clean and you will have to figure out how to deal with that data from the code, without having to modify the data source.\n",
        "\n",
        "\n",
        "\n",
        "**Question #1:** How many unique orders are in the orders.csv file?\n",
        "\n",
        "**Question #2:** What is the average number of items per order (rounded to two decimal places)?\n",
        "\n",
        "**Question #3:** What is the highest number of items per order?\n",
        "\n",
        "**Question #4:** What is the number of orders placed in October 2021?\n",
        "\n",
        "**Question #5:** Which customer spent the most amount of money in 2021?\n",
        "\n",
        "**Question #6:** Historically, what is the best month for sales?\n",
        "\n",
        "Once you get your answers, remember to go back to the course and introduce them in the multiple choice quiz"
      ]
    },
    {
      "cell_type": "code",
      "execution_count": 132,
      "metadata": {
        "id": "8ipJTrfs5QVM",
        "outputId": "6b302257-bd97-4263-fc8f-db2af00cc4fd",
        "colab": {
          "base_uri": "https://localhost:8080/"
        }
      },
      "outputs": [
        {
          "output_type": "stream",
          "name": "stdout",
          "text": [
            "There are 16672 in the file\n",
            "Average items per order: 1.76\n",
            "Highest number of items in one order: 35\n",
            "Orders in October 2021: 267\n",
            "Customer who spent the most in 2021: 5172443\n",
            "Best month for sales: 2022-01 with total sales of $172032.00\n",
            "0        7.0\n",
            "1        8.0\n",
            "2        7.0\n",
            "3        7.0\n",
            "4        7.0\n",
            "        ... \n",
            "29289    2.0\n",
            "29290    2.0\n",
            "29291    2.0\n",
            "29292    2.0\n",
            "29293    2.0\n",
            "Name: YearMonth, Length: 29294, dtype: float64\n",
            "YearMonth\n",
            "1.0     287515.0\n",
            "2.0     226005.0\n",
            "3.0     200660.0\n",
            "4.0     205135.0\n",
            "5.0     215685.0\n",
            "6.0     218700.0\n",
            "7.0     199040.0\n",
            "8.0     213608.0\n",
            "9.0     214075.0\n",
            "10.0    231305.0\n",
            "11.0    232065.0\n",
            "12.0    209475.0\n",
            "Name: Price, dtype: float64\n"
          ]
        }
      ],
      "source": [
        "# open and evaluate orders.csv\n",
        "import pandas as pd\n",
        "\n",
        "# Load the dataset\n",
        "datap=\"./sample_data/orders.csv\"\n",
        "df2 = pd.read_csv(datap)\n",
        "\n",
        "\n",
        "#QUESTION 1\n",
        "# Count unique OrderID\n",
        "unique_orders = df2['OrderID'].nunique()\n",
        "print(f\"There are {unique_orders} in the file\")\n",
        "\n",
        "#QUESTION 2\n",
        "# Count items per order\n",
        "items_per_order = df2.groupby('OrderID').size()\n",
        "\n",
        "# Calculate average and round to 2 decimals\n",
        "avg_items = round(items_per_order.mean(), 2)\n",
        "print(f\"Average items per order: {avg_items}\")\n",
        "\n",
        "#QUESTION 3\n",
        "# Find the maximum number of items in one order\n",
        "max_items = items_per_order.max()\n",
        "print(f\"Highest number of items in one order: {max_items}\")\n",
        "\n",
        "#QUESTION 4\n",
        "\n",
        "# Filter orders in October 2021\n",
        "october_orders = df2[(df2['Date'] >= '2021-10-01') & (df2['Date'] < '2021-11-01')]['OrderID'].nunique()\n",
        "print(f\"Orders in October 2021: {october_orders}\")\n",
        "\n",
        "#QUESTION 5\n",
        "\n",
        "# Filter data for 2021\n",
        "df2_2021 = pd.to_datetime(df2['Date'])\n",
        "\n",
        "df2_2021 = df2[df2_2021.dt.year == 2021]\n",
        "\n",
        "# Calculate total spending per customer\n",
        "spending_per_customer_2 = df2_2021.groupby('CustomerID', as_index= False)['Price'].sum()\n",
        "spending_per_customer = df2_2021.groupby('CustomerID',)['Price'].sum()\n",
        "\n",
        "\n",
        "top_customer = spending_per_customer.idxmax()\n",
        "max_spending = spending_per_customer.max()\n",
        "max_costumerid = spending_per_customer_2[spending_per_customer_2['CustomerID'] == top_customer]\n",
        "\n",
        "print(f\"Customer who spent the most in 2021: {top_customer}\")\n",
        "\n",
        "#QUESTION 6\n",
        "# Create a new column 'YearMonth' representing year and month\n",
        "df2['Date'] = pd.to_datetime(df2['Date'], errors='coerce')\n",
        "df2['YearMonth'] = df2['Date'].dt.to_period('M')\n",
        "# Sum sales per month\n",
        "monthly_sales = df2.groupby('YearMonth')['OrderTotal'].sum()\n",
        "\n",
        "# Find the month with the highest total sales\n",
        "best_month_period = monthly_sales.idxmax()  # This returns a Period object\n",
        "best_month_sales = monthly_sales.max()\n",
        "\n",
        "print(f\"Best month for sales: {best_month_period} with total sales of ${best_month_sales:.2f}\")\n",
        "\n",
        "#PART 2 GROUPING BY MONTH WITHOUT YEAR\n",
        "\n",
        "df2['Date'] = pd.to_datetime(df2['Date'], errors='coerce')\n",
        "df2['YearMonth'] = df2['Date'].dt.month\n",
        "print(df2[\"YearMonth\"])\n",
        "\n",
        "monthly_sales = df2.groupby('YearMonth')['Price'].sum()\n",
        "print(monthly_sales)\n",
        "\n",
        "best_month_period = monthly_sales.idxmax()\n",
        "best_month_sales = monthly_sales.max()\n",
        "\n"
      ]
    },
    {
      "cell_type": "markdown",
      "metadata": {
        "id": "ie0JW4FAk6Os"
      },
      "source": [
        "# Finished!\n",
        "\n",
        "Hope this was not too difficult and slicing and dicing the datasets was some fun. Now head on back to the course and provide the answers to the questions from this exercise."
      ]
    }
  ],
  "metadata": {
    "colab": {
      "name": "customers_and_orders.ipynb",
      "provenance": []
    },
    "kernelspec": {
      "display_name": "Python 3 (ipykernel)",
      "language": "python",
      "name": "python3"
    },
    "language_info": {
      "codemirror_mode": {
        "name": "ipython",
        "version": 3
      },
      "file_extension": ".py",
      "mimetype": "text/x-python",
      "name": "python",
      "nbconvert_exporter": "python",
      "pygments_lexer": "ipython3",
      "version": "3.9.9"
    }
  },
  "nbformat": 4,
  "nbformat_minor": 0
}