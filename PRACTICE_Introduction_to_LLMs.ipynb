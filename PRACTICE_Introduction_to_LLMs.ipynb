{
  "cells": [
    {
      "cell_type": "markdown",
      "metadata": {
        "id": "view-in-github",
        "colab_type": "text"
      },
      "source": [
        "<a href=\"https://colab.research.google.com/github/marimarmatos/AnyoneAI/blob/main/PRACTICE_Introduction_to_LLMs.ipynb\" target=\"_parent\"><img src=\"https://colab.research.google.com/assets/colab-badge.svg\" alt=\"Open In Colab\"/></a>"
      ]
    },
    {
      "cell_type": "markdown",
      "metadata": {
        "id": "kdzpYbE7ZIjt"
      },
      "source": [
        "# Prompt Engineering Practice\n",
        "\n",
        "This notebook provides a hands-on opportunity to practice prompt engineering, a crucial skill for effectively interacting with large language models (LLMs). Crafting clear, concise, and well-structured prompts is essential for obtaining desired outputs and unlocking the full potential of LLMs.\n",
        "\n",
        "Mastering prompt engineering is fundamental for more advanced LLM applications and training methodologies, such as Reinforcement Learning from Human Feedback (RLHF). By understanding how to guide LLMs through prompt design, you lay the groundwork for fine-tuning models and aligning their behavior with specific goals and desired outcomes."
      ]
    },
    {
      "cell_type": "code",
      "source": [
        "# Let's start by setting the API key\n",
        "import json\n",
        "import openai\n",
        "\n",
        "# Read the API key from a JSON file\n",
        "with open('keys.json', 'r') as file:\n",
        "    config = json.load(file)\n",
        "\n",
        "openai.api_key = config['api_key']"
      ],
      "metadata": {
        "id": "S3IU5nbgzt3m"
      },
      "execution_count": null,
      "outputs": []
    },
    {
      "cell_type": "markdown",
      "source": [
        "## First Task\n",
        "Generate a simple system prompt that takes the name of an algorithm, and asks for a response that should only contain code with several test case."
      ],
      "metadata": {
        "id": "B6Doa8-V4iJu"
      }
    },
    {
      "cell_type": "code",
      "source": [
        "# Create the system prompt\n",
        "system_prompt = \"\"\"\n",
        "Here goes your system prompt\n",
        "\n",
        "Algorithm Name:\n",
        "{}\n",
        "\"\"\"\n",
        "\n",
        "# Put an algorithm name here\n",
        "algorithm_name = \"\""
      ],
      "metadata": {
        "id": "LBotVUK847fs"
      },
      "execution_count": null,
      "outputs": []
    },
    {
      "cell_type": "code",
      "source": [
        "# Call the model\n",
        "completion = openai.chat.completions.create(\n",
        "  model=\"gpt-4o-mini\",\n",
        "  messages=[\n",
        "    {\"role\": \"user\", \"content\": {system_prompt.format(algorithm_name)}}\n",
        "  ]\n",
        ")\n",
        "\n",
        "print(completion.choices[0].message.content)"
      ],
      "metadata": {
        "id": "fympGswk5Ppz"
      },
      "execution_count": null,
      "outputs": []
    },
    {
      "cell_type": "markdown",
      "source": [
        "## Second Task\n",
        "Situation: You're curating a dataset containing prompts that ask for Image Generation tasks. However, the dataset contains prompts that are not usable for the project that you're working on right now. Currently, you want only non ambigous and human-like prompts. To help you classify the prompts, you want to create a system template that gives you a score between 0 and 1 (with 0 being an unuseful prompt and 1 a perfect prompt) and a brieft explanation.\n",
        "\n",
        "### Definitions:\n",
        "Unambigous: The prompts needs to explicitly mention figures and some visual details.\n",
        "\n",
        "Humanlike: The prompt should sound human, containing a some personality, not just a very robotic list of requirements"
      ],
      "metadata": {
        "id": "bL9JEAA_nUz9"
      }
    },
    {
      "cell_type": "code",
      "source": [
        "# Here are some examples:\n",
        "# Ambigous prompts\n",
        "ambiguous_prompt_1 = \"Create an image of a city.\"\n",
        "ambiguous_prompt_2 = \"Generate an artwork of a park setting.\"\n",
        "\n",
        "# Non-Humanlike Prompts\n",
        "non_humanlike_prompt_1 = \"Illustrate a scene: Elephant under tree, sunny backdrop, time: midday, color: realistic.\"\n",
        "non_humanlike_prompt_2 = \"Render image: Two children playing with ball in park, include details: bench, kite in sky, day background.\"\n",
        "\n",
        "# Perfect prompts\n",
        "perfect_prompt_1 = \"Imagine a cozy reading nook with a plush armchair, a small wooden side table, and a window with morning sunlight filtering in through soft, sheer curtains. Could you illustrate this warm, inviting scene?\"\n",
        "perfect_prompt_2 = \"I'd love to see a serene beach at sunset, with gentle waves lapping at the shore and a lone seagull gliding across a vibrant orange and pink sky. Can you create this tranquil moment?\"\n",
        "\n",
        "# Task: Create yourself two prompts that would be perfect\n",
        "your_prompt_1 = \"\"\n",
        "your_prompt_2 = \"\""
      ],
      "metadata": {
        "id": "BLjiMYc4nUMz"
      },
      "execution_count": null,
      "outputs": []
    },
    {
      "cell_type": "code",
      "source": [
        "system_prompt = \"\"\"\n",
        "Here goes your autograder\n",
        "\n",
        "Here goes the prompt to evaluate:\n",
        "{}\n",
        "\"\"\""
      ],
      "metadata": {
        "id": "MUIrD8H9zEQV"
      },
      "execution_count": null,
      "outputs": []
    },
    {
      "cell_type": "code",
      "source": [
        "print(system_prompt.format(ambiguous_prompt_1))"
      ],
      "metadata": {
        "colab": {
          "base_uri": "https://localhost:8080/"
        },
        "id": "IvvS-YVs0y8B",
        "outputId": "3a139893-2ad0-478f-cded-f42c1d0d8d84"
      },
      "execution_count": null,
      "outputs": [
        {
          "output_type": "stream",
          "name": "stdout",
          "text": [
            "\n",
            "Here goes your autograder\n",
            "\n",
            "Here goes the prompt to evaluate\n",
            "Create an image of a city.\n",
            "\n"
          ]
        }
      ]
    },
    {
      "cell_type": "code",
      "source": [
        "# Create an autograder function\n",
        "def call_autograder(prompt):\n",
        "  completion = openai.chat.completions.create(\n",
        "  model=\"gpt-4o-mini\",\n",
        "  messages=[\n",
        "    {\"role\": \"system\", \"content\": \"You are a helpful assistant.\"},\n",
        "    {\"role\": \"user\", \"content\": prompt}\n",
        "\n",
        "    ]\n",
        "  )\n",
        "  return completion.choices[0].message.content\n",
        "\n",
        "# Call the model with each prompt to evaluate the results\n",
        "prompt_list = [ambiguous_prompt_1,\n",
        "              ambiguous_prompt_2,\n",
        "              non_humanlike_prompt_1,\n",
        "              non_humanlike_prompt_2,\n",
        "              perfect_prompt_1,\n",
        "              perfect_prompt_2,\n",
        "              your_prompt_1,\n",
        "              your_prompt_2]\n",
        "\n",
        "for prompt_to_evaluate in prompt_list:\n",
        "  full_prompt = system_prompt.format(prompt_to_evaluate)\n",
        "  result = call_autograder(full_prompt)\n",
        "  print(result)"
      ],
      "metadata": {
        "colab": {
          "base_uri": "https://localhost:8080/"
        },
        "id": "cjsrh42hzKZS",
        "outputId": "93021a0a-5a3e-4bac-eb55-926327b40d61"
      },
      "execution_count": null,
      "outputs": [
        {
          "output_type": "stream",
          "name": "stdout",
          "text": [
            "\n",
            "Here goes your autograder\n",
            "\n",
            "Here goes the prompt to evaluate\n",
            "Create an image of a city.\n",
            "\n",
            "\n",
            "Here goes your autograder\n",
            "\n",
            "Here goes the prompt to evaluate\n",
            "Generate an artwork of a park setting.\n",
            "\n",
            "\n",
            "Here goes your autograder\n",
            "\n",
            "Here goes the prompt to evaluate\n",
            "Illustrate a scene: Elephant under tree, sunny backdrop, time: midday, color: realistic.\n",
            "\n",
            "\n",
            "Here goes your autograder\n",
            "\n",
            "Here goes the prompt to evaluate\n",
            "Render image: Two children playing with ball in park, include details: bench, kite in sky, day background.\n",
            "\n",
            "\n",
            "Here goes your autograder\n",
            "\n",
            "Here goes the prompt to evaluate\n",
            "Imagine a cozy reading nook with a plush armchair, a small wooden side table, and a window with morning sunlight filtering in through soft, sheer curtains. Could you illustrate this warm, inviting scene?\n",
            "\n",
            "\n",
            "Here goes your autograder\n",
            "\n",
            "Here goes the prompt to evaluate\n",
            "I'd love to see a serene beach at sunset, with gentle waves lapping at the shore and a lone seagull gliding across a vibrant orange and pink sky. Can you create this tranquil moment?\n",
            "\n",
            "\n",
            "Here goes your autograder\n",
            "\n",
            "Here goes the prompt to evaluate\n",
            "\n",
            "\n",
            "\n",
            "Here goes your autograder\n",
            "\n",
            "Here goes the prompt to evaluate\n",
            "\n",
            "\n"
          ]
        }
      ]
    }
  ],
  "metadata": {
    "kernelspec": {
      "display_name": "Python 3",
      "language": "python",
      "name": "python3"
    },
    "language_info": {
      "codemirror_mode": {
        "name": "ipython",
        "version": 3
      },
      "file_extension": ".py",
      "mimetype": "text/x-python",
      "name": "python",
      "nbconvert_exporter": "python",
      "pygments_lexer": "ipython3",
      "version": "3.10.0"
    },
    "colab": {
      "provenance": [],
      "include_colab_link": true
    }
  },
  "nbformat": 4,
  "nbformat_minor": 0
}